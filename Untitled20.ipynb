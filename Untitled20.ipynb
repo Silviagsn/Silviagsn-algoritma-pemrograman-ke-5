{
 "cells": [
  {
   "cell_type": "code",
   "execution_count": 38,
   "id": "1d63ad76-eb1d-408a-8ae7-36f91d350328",
   "metadata": {},
   "outputs": [
    {
     "name": "stdin",
     "output_type": "stream",
     "text": [
      "Masukkan nilai (A, A-, B+, B, B-, C+, C, C-, D, E) atau 'Q' untuk keluar:  Q\n"
     ]
    }
   ],
   "source": [
    "nilaimurid = list()\n",
    "total_nilai = 0\n",
    "jumlah_nilai = 0\n",
    "\n",
    "while True:\n",
    "    nilai = input(\"Masukkan nilai (A, A-, B+, B, B-, C+, C, C-, D, E) atau 'Q' untuk keluar: \")\n",
    "    \n",
    "    if nilai == 'Q':\n",
    "        break\n",
    "    \n",
    "    if nilai == \"A\":\n",
    "        print(\"A = 4.00\")\n",
    "    elif nilai == \"A-\":\n",
    "        print(\"A- = 3.75\")\n",
    "    elif nilai == \"B+\":\n",
    "        print(\"B+ = 3.50\")\n",
    "    elif nilai == \"B\":\n",
    "        print(\"B = 3.00\")\n",
    "    elif nilai == \"B-\":\n",
    "        print(\"B- = 2.75\")\n",
    "    elif nilai == \"C+\":\n",
    "        print(\"C+ = 2.50\")\n",
    "    elif nilai == \"C\":\n",
    "        print(\"C = 2.00\")\n",
    "    elif nilai == \"C-\":\n",
    "        print(\"C- = 1.75\")\n",
    "    elif nilai == \"D\":\n",
    "        print(\"D = 1.50\")\n",
    "    elif nilai == \"E\":\n",
    "        print(\"E = 1.25\")\n",
    "    else:\n",
    "        print(\"Nilai tidak valid. Silakan coba lagi.\")\n",
    "\n",
    "if jumlah_nilai > 0:\n",
    "    rata_rata = total_nilai / jumlah_nilai\n",
    "    print(f'Nilai rata-rata: {rata_rata:.2f}')"
   ]
  },
  {
   "cell_type": "code",
   "execution_count": 40,
   "id": "4a8be835-b7c3-47a5-b141-f71169b43d5d",
   "metadata": {},
   "outputs": [
    {
     "name": "stdin",
     "output_type": "stream",
     "text": [
      "Input Age:  10\n"
     ]
    },
    {
     "name": "stdout",
     "output_type": "stream",
     "text": [
      "Price $14.00\n",
      "total payment =  14.0\n"
     ]
    },
    {
     "name": "stdin",
     "output_type": "stream",
     "text": [
      "Input Age:  2\n"
     ]
    },
    {
     "name": "stdout",
     "output_type": "stream",
     "text": [
      "FREE\n",
      "total payment =  14.0\n"
     ]
    },
    {
     "name": "stdin",
     "output_type": "stream",
     "text": [
      "Input Age:  32\n"
     ]
    },
    {
     "name": "stdout",
     "output_type": "stream",
     "text": [
      "Price $23.00\n",
      "total payment =  37.0\n"
     ]
    },
    {
     "name": "stdin",
     "output_type": "stream",
     "text": [
      "Input Age:  100\n"
     ]
    },
    {
     "name": "stdout",
     "output_type": "stream",
     "text": [
      "Price $18.00\n",
      "total payment =  55.0\n"
     ]
    },
    {
     "name": "stdin",
     "output_type": "stream",
     "text": [
      "Input Age:  \n",
      "Payment =  100\n"
     ]
    },
    {
     "name": "stdout",
     "output_type": "stream",
     "text": [
      "Change =  45.0\n"
     ]
    }
   ],
   "source": [
    " n = 0\n",
    "money = 0\n",
    "people = 0\n",
    "\n",
    "while (n != ''):\n",
    "    n = str(input(\"Input Age: \"))\n",
    "    people += 1\n",
    "    if (n == str('')):\n",
    "        break;\n",
    "    else:\n",
    "        \n",
    "        if (int(n) <= 2):\n",
    "            print('FREE')\n",
    "            money += 0\n",
    "            print(\"total payment = \", money)\n",
    "        elif (3 <= int(n) <= 12):\n",
    "            print(\"Price $14.00\")\n",
    "            money += 14.00\n",
    "            print(\"total payment = \", money)\n",
    "        elif (150 >= int(n) >= 65):\n",
    "            print('Price $18.00')\n",
    "            money += 18.00\n",
    "            print(\"total payment = \", money)\n",
    "        elif (13 <= int(n) <= 64):\n",
    "            print('Price $23.00')\n",
    "            money += 23.00\n",
    "            print(\"total payment = \", money)\n",
    "        else:\n",
    "            people -= 1\n",
    "            print('INVALID')\n",
    "            \n",
    "if(people == 1):\n",
    "    print(\" \")\n",
    "else:\n",
    "    pay = float(input(\"Payment = \"))\n",
    "    chance = pay - money\n",
    "    print('Change = ', chance)"
   ]
  },
  {
   "cell_type": "code",
   "execution_count": null,
   "id": "026699e4-9481-4f23-965f-061bbf68f4af",
   "metadata": {},
   "outputs": [],
   "source": []
  }
 ],
 "metadata": {
  "kernelspec": {
   "display_name": "Python 3 (ipykernel)",
   "language": "python",
   "name": "python3"
  },
  "language_info": {
   "codemirror_mode": {
    "name": "ipython",
    "version": 3
   },
   "file_extension": ".py",
   "mimetype": "text/x-python",
   "name": "python",
   "nbconvert_exporter": "python",
   "pygments_lexer": "ipython3",
   "version": "3.12.4"
  }
 },
 "nbformat": 4,
 "nbformat_minor": 5
}
